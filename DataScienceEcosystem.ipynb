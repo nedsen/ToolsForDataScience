{
 "cells": [
  {
   "cell_type": "markdown",
   "id": "1372d6f6-f501-4e28-957e-1bba9bfef6e4",
   "metadata": {},
   "source": [
    "# Data Science Tools and Ecosystem"
   ]
  },
  {
   "cell_type": "markdown",
   "id": "877caa0d-46ca-4d37-b7bf-0a93c523f072",
   "metadata": {},
   "source": [
    "In this notebook, Data Science Tools and Ecosystem are summarized."
   ]
  },
  {
   "cell_type": "markdown",
   "id": "3b855989-2a51-4e26-9387-527410a0e4a3",
   "metadata": {},
   "source": [
    "__Objectives:__\n",
    "\n",
    "* List popular languages for Data Science\n",
    "* List common libraries used by Data Scientists\n",
    "* List common open source tools used by Data Scientists\n",
    "* Show examples of arithmetic expressions in Python"
   ]
  },
  {
   "cell_type": "markdown",
   "id": "096698dd-3e51-4163-abe1-246e86a33df1",
   "metadata": {},
   "source": [
    "Some of the popular languages that Data Scientists use are:\n",
    "1. Python\n",
    "2. R\n",
    "3. SQL"
   ]
  },
  {
   "cell_type": "markdown",
   "id": "f23d8162-4117-4677-afca-514351b26eec",
   "metadata": {},
   "source": [
    "Some of the common libraries used by Data Scientists include:\n",
    "1. Pandas\n",
    "2. Matplotlib\n",
    "3. Tensorflow"
   ]
  },
  {
   "cell_type": "markdown",
   "id": "ac53f910-2c0f-4e45-93b5-0fe448062e41",
   "metadata": {},
   "source": [
    "| Data Science Tools |\n",
    "|----|\n",
    "| Jupyter Notebooks |\n",
    "| Apache Zeppelin | \n",
    "| RStudio |"
   ]
  },
  {
   "cell_type": "markdown",
   "id": "d842f455-4f1b-4890-99d0-22314242eddf",
   "metadata": {},
   "source": [
    "### Below are a few examples of arithmetic expressions in Python."
   ]
  },
  {
   "cell_type": "code",
   "execution_count": 1,
   "id": "200c533c-377c-42c3-bb09-0eafc239c408",
   "metadata": {},
   "outputs": [
    {
     "data": {
      "text/plain": [
       "17"
      ]
     },
     "execution_count": 1,
     "metadata": {},
     "output_type": "execute_result"
    }
   ],
   "source": [
    "(3*4)+5"
   ]
  },
  {
   "cell_type": "code",
   "execution_count": 5,
   "id": "5ec860fa-ab9e-410d-8ea4-357d2102d645",
   "metadata": {},
   "outputs": [
    {
     "name": "stdout",
     "output_type": "stream",
     "text": [
      "200 minutes is 3.3333333333333335 hours.\n"
     ]
    }
   ],
   "source": [
    "# This will convert 200 minutes to hours by dividing by 60.\n",
    "minutes = 200\n",
    "hours = minutes / 60\n",
    "print(f\"{minutes} minutes is {hours} hours.\")"
   ]
  },
  {
   "cell_type": "markdown",
   "id": "324c9847-1698-424c-8914-26e88502448d",
   "metadata": {},
   "source": [
    "## Author\n",
    "Nikolas Edsen"
   ]
  },
  {
   "cell_type": "markdown",
   "id": "5b58c1ac-bd17-41b7-8be8-1b973e08e687",
   "metadata": {},
   "source": [
    " "
   ]
  },
  {
   "cell_type": "code",
   "execution_count": null,
   "id": "33d7e6eb-6c1b-4240-888d-f0672eefd89b",
   "metadata": {},
   "outputs": [],
   "source": []
  },
  {
   "cell_type": "code",
   "execution_count": null,
   "id": "299edd53-c6d1-42df-8494-2daa80876996",
   "metadata": {},
   "outputs": [],
   "source": []
  }
 ],
 "metadata": {
  "kernelspec": {
   "display_name": "Python 3 (ipykernel)",
   "language": "python",
   "name": "python3"
  },
  "language_info": {
   "codemirror_mode": {
    "name": "ipython",
    "version": 3
   },
   "file_extension": ".py",
   "mimetype": "text/x-python",
   "name": "python",
   "nbconvert_exporter": "python",
   "pygments_lexer": "ipython3",
   "version": "3.11.4"
  }
 },
 "nbformat": 4,
 "nbformat_minor": 5
}
